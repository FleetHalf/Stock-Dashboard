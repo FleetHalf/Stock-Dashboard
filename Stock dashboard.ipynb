{
 "cells": [
  {
   "cell_type": "code",
   "execution_count": 1,
   "metadata": {},
   "outputs": [],
   "source": [
    "import pandas as pd\n",
    "import dash\n",
    "from dash import dcc, html, Input, Output\n",
    "import datetime\n",
    "import requests\n",
    "import yfinance as yf"
   ]
  },
  {
   "cell_type": "code",
   "execution_count": 2,
   "metadata": {},
   "outputs": [],
   "source": [
    "app = dash.Dash()\n",
    "app.title = \"Stock Visualisation\"\n",
    "\n",
    "app.layout = html.Div(children=[\n",
    "\thtml.H1(\"Stock Visualisation Dashboard\"),\n",
    "\thtml.H4(\"Please enter the stock name\"),\n",
    "\tdcc.Input(id='input', value='AAPL', type='text'),\n",
    "\thtml.Div(id='output-graph')\n",
    "])\n"
   ]
  },
  {
   "cell_type": "code",
   "execution_count": 3,
   "metadata": {},
   "outputs": [],
   "source": [
    "# callback Decorator \n",
    "@app.callback(\n",
    "\tOutput(component_id='output-graph', component_property='children'),\n",
    "\t[Input(component_id='input', component_property='value')]\n",
    ")\n",
    "def update_graph(input_data):\n",
    "\tstart = datetime.datetime(2010, 1, 1)\n",
    "\tend = datetime.datetime.now()\n",
    "\n",
    "\ttry:\n",
    "\t\tdf = web.DataReader(input_data, 'yahoo', start, end)\n",
    "\n",
    "\t\tgraph = dcc.Graph(id =\"example\", figure ={\n",
    "\t\t\t'data':[{'x':df.index, 'y':df.Close, 'type':'line', 'name':input_data}],\n",
    "\t\t\t'layout':{\n",
    "\t\t\t\t'title':input_data\n",
    "\t\t\t}\n",
    "\t\t})\n",
    "\n",
    "\texcept:\n",
    "\t\tgraph = html.Div(\"Error retrieving stock data.\")\n",
    "\n",
    "\treturn graph\n"
   ]
  },
  {
   "cell_type": "code",
   "execution_count": 4,
   "metadata": {},
   "outputs": [
    {
     "data": {
      "text/html": [
       "\n",
       "        <iframe\n",
       "            width=\"100%\"\n",
       "            height=\"650\"\n",
       "            src=\"http://127.0.0.1:8053/\"\n",
       "            frameborder=\"0\"\n",
       "            allowfullscreen\n",
       "            \n",
       "        ></iframe>\n",
       "        "
      ],
      "text/plain": [
       "<IPython.lib.display.IFrame at 0x1fe935efa30>"
      ]
     },
     "metadata": {},
     "output_type": "display_data"
    }
   ],
   "source": [
    "if __name__ == '__main__':\n",
    "\tapp.run_server(port = 8053)\n"
   ]
  }
 ],
 "metadata": {
  "kernelspec": {
   "display_name": "base",
   "language": "python",
   "name": "python3"
  },
  "language_info": {
   "codemirror_mode": {
    "name": "ipython",
    "version": 3
   },
   "file_extension": ".py",
   "mimetype": "text/x-python",
   "name": "python",
   "nbconvert_exporter": "python",
   "pygments_lexer": "ipython3",
   "version": "3.10.9"
  }
 },
 "nbformat": 4,
 "nbformat_minor": 2
}
