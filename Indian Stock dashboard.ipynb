{
 "cells": [
  {
   "cell_type": "code",
   "execution_count": 8,
   "metadata": {},
   "outputs": [],
   "source": [
    "import datetime\n",
    "import yfinance as yf # type: ignore\n",
    "import dash # type: ignore\n",
    "import dash_core_components as dcc  # type: ignore\n",
    "import dash_html_components as html # type: ignore\n",
    "from dash.dependencies import Input, Output # type: ignore\n"
   ]
  },
  {
   "cell_type": "markdown",
   "metadata": {},
   "source": [
    "## We shall define a dictionary that includes top 100 stocks on the NSE:"
   ]
  },
  {
   "cell_type": "code",
   "execution_count": 9,
   "metadata": {},
   "outputs": [],
   "source": [
    "stock_names = {\n",
    "    \"ABB.NS\": \"ABB India Limited\",\n",
    "    \"ADANIENSOL.NS\": \"Adani Enterprises Limited\",\n",
    "    \"ADANIENT.NS\": \"Adani Enterprises Limited\",\n",
    "    \"ADANIGREEN.NS\": \"Adani Green Energy Limited\",\n",
    "    \"ADANIPORTS.NS\": \"Adani Ports and Special Economic Zone Limited\",\n",
    "    \"ADANIPOWER.NS\": \"Adani Power Limited\",\n",
    "    \"ATGL.NS\": \"Adani Total Gas Limited\",\n",
    "    \"AMBUJACEM.NS\": \"Ambuja Cements Limited\",\n",
    "    \"APOLLOHOSP.NS\": \"Apollo Hospitals Enterprise Limited\",\n",
    "    \"ASIANPAINT.NS\": \"Asian Paints Limited\",\n",
    "    \"DMART.NS\": \"Avenue Supermarts Limited\",\n",
    "    \"AXISBANK.NS\": \"Axis Bank Limited\",\n",
    "    \"BAJAJ-AUTO.NS\": \"Bajaj Auto Limited\",\n",
    "    \"BAJFINANCE.NS\": \"Bajaj Finance Limited\",\n",
    "    \"BAJAJFINSV.NS\": \"Bajaj Finserv Limited\",\n",
    "    \"BAJAJHLDNG.NS\": \"Bajaj Holdings & Investment Limited\",\n",
    "    \"BANKBARODA.NS\": \"Bank of Baroda\",\n",
    "    \"BERGEPAINT.NS\": \"Berger Paints India Limited\",\n",
    "    \"BEL.NS\": \"Bharat Electronics Limited\",\n",
    "    \"BPCL.NS\": \"Bharat Petroleum Corporation Limited\",\n",
    "    \"BHARTIARTL.NS\": \"Bharti Airtel Limited\",\n",
    "    \"BOSCHLTD.NS\": \"Bosch Limited\",\n",
    "    \"BRITANNIA.NS\": \"Britannia Industries Limited\",\n",
    "    \"CANBK.NS\": \"Canara Bank\",\n",
    "    \"CHOLAFIN.NS\": \"Cholamandalam Investment and Finance Company Limited\",\n",
    "    \"CIPLA.NS\": \"Cipla Limited\",\n",
    "    \"COALINDIA.NS\": \"Coal India Limited\",\n",
    "    \"COLPAL.NS\": \"Colgate-Palmolive (India) Limited\",\n",
    "    \"DLF.NS\": \"DLF Limited\",\n",
    "    \"DABUR.NS\": \"Dabur India Limited\",\n",
    "    \"DIVISLAB.NS\": \"Divi's Laboratories Limited\",\n",
    "    \"DRREDDY.NS\": \"Dr. Reddy's Laboratories Limited\",\n",
    "    \"EICHERMOT.NS\": \"Eicher Motors Limited\",\n",
    "    \"GAIL.NS\": \"GAIL (India) Limited\",\n",
    "    \"GODREJCP.NS\": \"Godrej Consumer Products Limited\",\n",
    "    \"GRASIM.NS\": \"Grasim Industries Limited\",\n",
    "    \"HCLTECH.NS\": \"HCL Technologies Limited\",\n",
    "    \"HDFCBANK.NS\": \"HDFC Bank Limited\",\n",
    "    \"HDFCLIFE.NS\": \"HDFC Life Insurance Company Limited\",\n",
    "    \"HAVELLS.NS\": \"Havells India Limited\",\n",
    "    \"HEROMOTOCO.NS\": \"Hero MotoCorp Limited\",\n",
    "    \"HINDALCO.NS\": \"Hindalco Industries Limited\",\n",
    "    \"HAL.NS\": \"Hindustan Aeronautics Limited\",\n",
    "    \"HINDUNILVR.NS\": \"Hindustan Unilever Limited\",\n",
    "    \"ICICIBANK.NS\": \"ICICI Bank Limited\",\n",
    "    \"ICICIGI.NS\": \"ICICI Lombard General Insurance Company Limited\",\n",
    "    \"ICICIPRULI.NS\": \"ICICI Prudential Life Insurance Company Limited\",\n",
    "    \"ITC.NS\": \"ITC Limited\",\n",
    "    \"IOC.NS\": \"Indian Oil Corporation Limited\",\n",
    "    \"IRCTC.NS\": \"Indian Railway Catering and Tourism Corporation Limited\",\n",
    "    \"IRFC.NS\": \"Indian Railway Finance Corporation Limited\",\n",
    "    \"INDUSINDBK.NS\": \"IndusInd Bank Limited\",\n",
    "    \"NAUKRI.NS\": \"Info Edge (India) Limited\",\n",
    "    \"INFY.NS\": \"Infosys Limited\",\n",
    "    \"INDIGO.NS\": \"InterGlobe Aviation Limited\",\n",
    "    \"JSWSTEEL.NS\": \"JSW Steel Limited\",\n",
    "    \"JINDALSTEL.NS\": \"Jindal Steel & Power Limited\",\n",
    "    \"JIOFIN.NS\": \"Jio Platforms Limited\",\n",
    "    \"KOTAKBANK.NS\": \"Kotak Mahindra Bank Limited\",\n",
    "    \"LTIM.NS\": \"L&T Technology Services Limited\",\n",
    "    \"LT.NS\": \"Larsen & Toubro Limited\",\n",
    "    \"LICI.NS\": \"Life Insurance Corporation of India\",\n",
    "    \"M&M.NS\": \"Mahindra & Mahindra Limited\",\n",
    "    \"MARICO.NS\": \"Marico Limited\",\n",
    "    \"MARUTI.NS\": \"Maruti Suzuki India Limited\",\n",
    "    \"NTPC.NS\": \"NTPC Limited\",\n",
    "    \"NESTLEIND.NS\": \"Nestle India Limited\",\n",
    "    \"ONGC.NS\": \"Oil and Natural Gas Corporation Limited\",\n",
    "    \"PIDILITIND.NS\": \"Pidilite Industries Limited\",\n",
    "    \"PFC.NS\": \"Power Finance Corporation Limited\",\n",
    "    \"POWERGRID.NS\": \"Power Grid Corporation of India Limited\",\n",
    "    \"PNB.NS\": \"Punjab National Bank\",\n",
    "    \"RECLTD.NS\": \"REC Limited\",\n",
    "    \"RELIANCE.NS\": \"Reliance Industries Limited\",\n",
    "    \"SBICARD.NS\": \"SBI Cards and Payment Services Limited\",\n",
    "    \"SBILIFE.NS\": \"SBI Life Insurance Company Limited\",\n",
    "    \"SRF.NS\": \"SRF Limited\",\n",
    "    \"MOTHERSON.NS\": \"Motherson Sumi Systems Limited\",\n",
    "    \"SHREECEM.NS\": \"Shree Cement Limited\",\n",
    "    \"SHRIRAMFIN.NS\": \"Shriram Transport Finance Company Limited\",\n",
    "    \"SIEMENS.NS\": \"Siemens Limited\",\n",
    "    \"SBIN.NS\": \"State Bank of India\",\n",
    "    \"SUNPHARMA.NS\": \"Sun Pharmaceutical Industries Limited\",\n",
    "    \"TVSMOTOR.NS\": \"TVS Motor Company Limited\",\n",
    "    \"TCS.NS\": \"Tata Consultancy Services Limited\",\n",
    "    \"TATACONSUM.NS\": \"Tata Consumer Products Limited\",\n",
    "    \"TATAMTRDVR.NS\": \"Tata Motors Limited\",\n",
    "    \"TATAMOTORS.NS\": \"Tata Motors Limited\",\n",
    "    \"TATAPOWER.NS\": \"Tata Power Company Limited\",\n",
    "    \"TATASTEEL.NS\": \"Tata Steel Limited\",\n",
    "    \"TECHM.NS\": \"Tech Mahindra Limited\",\n",
    "    \"TITAN.NS\": \"Titan Company Limited\",\n",
    "    \"TORNTPHARM.NS\": \"Torrent Pharmaceuticals Limited\",\n",
    "    \"TRENT.NS\": \"Trent Limited\",\n",
    "    \"ULTRACEMCO.NS\": \"UltraTech Cement Limited\",\n",
    "    \"MCDOWELL-N.NS\": \"United Spirits Limited\",\n",
    "    \"VBL.NS\": \"Varun Beverages Limited\",\n",
    "    \"VEDL.NS\": \"Vedanta Limited\",\n",
    "    \"WIPRO.NS\": \"Wipro Limited\",\n",
    "    \"ZOMATO.NS\": \"Zomato Limited\",\n",
    "    \"ZYDUSLIFE.NS\": \"Zydus Wellness Limited\"\n",
    "}\n"
   ]
  },
  {
   "cell_type": "markdown",
   "metadata": {},
   "source": [
    "## Code for the actual dashboard:"
   ]
  },
  {
   "cell_type": "code",
   "execution_count": 10,
   "metadata": {},
   "outputs": [
    {
     "name": "stderr",
     "output_type": "stream",
     "text": [
      "[*********************100%%**********************]  101 of 101 completed\n"
     ]
    }
   ],
   "source": [
    "# List of stock symbols\n",
    "top_100_stocks = [\n",
    "    \"ABB.NS\", \"ADANIENSOL.NS\", \"ADANIENT.NS\", \"ADANIGREEN.NS\", \"ADANIPORTS.NS\", \"ADANIPOWER.NS\",\n",
    "    \"ATGL.NS\", \"AMBUJACEM.NS\", \"APOLLOHOSP.NS\", \"ASIANPAINT.NS\", \"DMART.NS\", \"AXISBANK.NS\", \"BAJAJ-AUTO.NS\",\n",
    "    \"BAJFINANCE.NS\", \"BAJAJFINSV.NS\", \"BAJAJHLDNG.NS\", \"BANKBARODA.NS\", \"BERGEPAINT.NS\", \"BEL.NS\", \"BPCL.NS\",\n",
    "    \"BHARTIARTL.NS\", \"BOSCHLTD.NS\", \"BRITANNIA.NS\", \"CANBK.NS\", \"CHOLAFIN.NS\", \"CIPLA.NS\", \"COALINDIA.NS\",\n",
    "    \"COLPAL.NS\", \"DLF.NS\", \"DABUR.NS\", \"DIVISLAB.NS\", \"DRREDDY.NS\", \"EICHERMOT.NS\", \"GAIL.NS\", \"GODREJCP.NS\",\n",
    "    \"GRASIM.NS\", \"HCLTECH.NS\", \"HDFCBANK.NS\", \"HDFCLIFE.NS\", \"HAVELLS.NS\", \"HEROMOTOCO.NS\", \"HINDALCO.NS\",\n",
    "    \"HAL.NS\", \"HINDUNILVR.NS\", \"ICICIBANK.NS\", \"ICICIGI.NS\", \"ICICIPRULI.NS\", \"ITC.NS\", \"IOC.NS\", \"IRCTC.NS\",\n",
    "    \"IRFC.NS\", \"INDUSINDBK.NS\", \"NAUKRI.NS\", \"INFY.NS\", \"INDIGO.NS\", \"JSWSTEEL.NS\", \"JINDALSTEL.NS\", \"JIOFIN.NS\",\n",
    "    \"KOTAKBANK.NS\", \"LTIM.NS\", \"LT.NS\", \"LICI.NS\", \"M&M.NS\", \"MARICO.NS\", \"MARUTI.NS\", \"NTPC.NS\", \"NESTLEIND.NS\",\n",
    "    \"ONGC.NS\", \"PIDILITIND.NS\", \"PFC.NS\", \"POWERGRID.NS\", \"PNB.NS\", \"RECLTD.NS\", \"RELIANCE.NS\", \"SBICARD.NS\",\n",
    "    \"SBILIFE.NS\", \"SRF.NS\", \"MOTHERSON.NS\", \"SHREECEM.NS\", \"SHRIRAMFIN.NS\", \"SIEMENS.NS\", \"SBIN.NS\", \"SUNPHARMA.NS\",\n",
    "    \"TVSMOTOR.NS\", \"TCS.NS\", \"TATACONSUM.NS\", \"TATAMTRDVR.NS\", \"TATAMOTORS.NS\", \"TATAPOWER.NS\", \"TATASTEEL.NS\",\n",
    "    \"TECHM.NS\", \"TITAN.NS\", \"TORNTPHARM.NS\", \"TRENT.NS\", \"ULTRACEMCO.NS\", \"MCDOWELL-N.NS\", \"VBL.NS\", \"VEDL.NS\",\n",
    "    \"WIPRO.NS\", \"ZOMATO.NS\", \"ZYDUSLIFE.NS\"\n",
    "]\n",
    "\n",
    "# Download historical price data\n",
    "price_data = yf.download(top_100_stocks, start='2010-01-01', end='2023-12-31')\n"
   ]
  },
  {
   "cell_type": "code",
   "execution_count": 11,
   "metadata": {},
   "outputs": [],
   "source": [
    "# Create Dash app\n",
    "app = dash.Dash()\n",
    "app.title = \"Stock Visualisation\"\n",
    "# Define layout\n",
    "app.layout = html.Div(children=[\n",
    "    html.H1(\"Stock Visualisation Dashboard\"),\n",
    "    html.H4(\"Please select a stock\"),\n",
    "    dcc.Dropdown(\n",
    "        id='stock-dropdown',\n",
    "        options=[{'label': stock_names[symbol], 'value': symbol} for symbol in top_100_stocks],\n",
    "        value=top_100_stocks[0],  # Default value\n",
    "    ),\n",
    "    dcc.Graph(id='stock-graph')\n",
    "])"
   ]
  },
  {
   "cell_type": "code",
   "execution_count": 12,
   "metadata": {},
   "outputs": [
    {
     "data": {
      "text/html": [
       "\n",
       "        <iframe\n",
       "            width=\"100%\"\n",
       "            height=\"650\"\n",
       "            src=\"http://127.0.0.1:8054/\"\n",
       "            frameborder=\"0\"\n",
       "            allowfullscreen\n",
       "            \n",
       "        ></iframe>\n",
       "        "
      ],
      "text/plain": [
       "<IPython.lib.display.IFrame at 0x1d5a9ab6d70>"
      ]
     },
     "metadata": {},
     "output_type": "display_data"
    },
    {
     "name": "stderr",
     "output_type": "stream",
     "text": [
      "[*********************100%%**********************]  1 of 1 completed\n",
      "[*********************100%%**********************]  1 of 1 completed\n",
      "[*********************100%%**********************]  1 of 1 completed\n",
      "[*********************100%%**********************]  1 of 1 completed\n",
      "[*********************100%%**********************]  1 of 1 completed\n",
      "[*********************100%%**********************]  1 of 1 completed\n",
      "[*********************100%%**********************]  1 of 1 completed\n",
      "[*********************100%%**********************]  1 of 1 completed\n",
      "[*********************100%%**********************]  1 of 1 completed\n",
      "[*********************100%%**********************]  1 of 1 completed\n"
     ]
    }
   ],
   "source": [
    "# callback Decorator\n",
    "@app.callback(\n",
    "    Output(component_id='stock-graph', component_property='figure'),\n",
    "    [Input(component_id='stock-dropdown', component_property='value')]\n",
    ")\n",
    "def update_graph(selected_stock):\n",
    "    start = datetime.datetime(2010, 1, 1)\n",
    "    end = datetime.datetime(2023, 12, 31)\n",
    "\n",
    "    try:\n",
    "        df = yf.download(selected_stock, start=start, end=end)\n",
    "        if df.empty:\n",
    "            raise ValueError(\"No data fetched\")\n",
    "        \n",
    "        graph = {\n",
    "            'data': [{'x': df.index, 'y': df['Adj Close'], 'type': 'line', 'name': stock_names[selected_stock]}],\n",
    "            'layout': {\n",
    "                'title': f'{stock_names[selected_stock]} Stock Price',\n",
    "                'xaxis': {'title': 'Date'},\n",
    "                'yaxis': {'title': 'Price (INR)'}\n",
    "                }\n",
    "        }\n",
    "    except Exception as e:\n",
    "        error_message = f\"Error retrieving stock data: {str(e)}\"\n",
    "        graph = {\n",
    "            'data': [],\n",
    "            'layout': {\n",
    "                'title': 'Error',\n",
    "                'annotations': [\n",
    "                    {\n",
    "                        'x': 0.5,\n",
    "                        'y': 0.5,\n",
    "                        'xref': 'paper',\n",
    "                        'yref': 'paper',\n",
    "                        'text': error_message,\n",
    "                        'showarrow': False,\n",
    "                        'font': {\n",
    "                            'size': 16\n",
    "                        }\n",
    "                    }\n",
    "                ]\n",
    "            }\n",
    "        }\n",
    "    return graph\n",
    "\n",
    "if __name__ == '__main__':\n",
    "    app.run_server(debug=True, port=8054)"
   ]
  },
  {
   "cell_type": "markdown",
   "metadata": {},
   "source": []
  },
  {
   "cell_type": "markdown",
   "metadata": {},
   "source": [
    "## This is the stock market visualization that I created, with a mix of my own programming knowledge and AI."
   ]
  }
 ],
 "metadata": {
  "kernelspec": {
   "display_name": "base",
   "language": "python",
   "name": "python3"
  },
  "language_info": {
   "codemirror_mode": {
    "name": "ipython",
    "version": 3
   },
   "file_extension": ".py",
   "mimetype": "text/x-python",
   "name": "python",
   "nbconvert_exporter": "python",
   "pygments_lexer": "ipython3",
   "version": "3.10.9"
  }
 },
 "nbformat": 4,
 "nbformat_minor": 2
}
